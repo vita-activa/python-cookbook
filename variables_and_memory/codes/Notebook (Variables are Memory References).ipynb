{
 "cells": [
  {
   "cell_type": "markdown",
   "metadata": {},
   "source": [
    "## Variables are Memory References"
   ]
  },
  {
   "cell_type": "markdown",
   "metadata": {},
   "source": [
    "We can find the memory address that a variable *references*, by using the `id()` function.\n",
    "\n",
    "The `id()` function returns the memory address of its argument as a base-10 integer.\n",
    "\n",
    "We can use the function `hex()` to convert the base-10 number to base-16."
   ]
  },
  {
   "cell_type": "code",
   "execution_count": 1,
   "metadata": {},
   "outputs": [
    {
     "name": "stdout",
     "output_type": "stream",
     "text": [
      "my_var = 10\n",
      "memory address of my_var (decimal): 1968827120\n",
      "memory address of my_var (hex): 0x7559eaf0\n"
     ]
    }
   ],
   "source": [
    "my_var = 10\n",
    "print('my_var = {0}'.format(my_var))\n",
    "print('memory address of my_var (decimal): {0}'.format(id(my_var)))\n",
    "print('memory address of my_var (hex): {0}'.format(hex(id(my_var))))"
   ]
  },
  {
   "cell_type": "code",
   "execution_count": 2,
   "metadata": {},
   "outputs": [
    {
     "name": "stdout",
     "output_type": "stream",
     "text": [
      "greeting = Hello\n",
      "memory address of my_var (decimal): 1688681719264\n",
      "memory address of my_var (hex): 0x1892d4625e0\n"
     ]
    }
   ],
   "source": [
    "greeting = 'Hello'\n",
    "print('greeting = {0}'.format(greeting))\n",
    "print('memory address of my_var (decimal): {0}'.format(id(greeting)))\n",
    "print('memory address of my_var (hex): {0}'.format(hex(id(greeting))))"
   ]
  },
  {
   "cell_type": "markdown",
   "metadata": {},
   "source": [
    "Note how the memory address of `my_var` is **different** from that of `greeting`.\n",
    "\n",
    "Strictly speaking, `my_var` is not \"equal\" to 10. \n",
    "\n",
    "Instead `my_var` is a **reference** to an (*integer*) object (*containing the value 10*) located at the memory address `id(my_var)`\n",
    "\n",
    "Similarly for the variable `greeting`."
   ]
  },
  {
   "cell_type": "code",
   "execution_count": 1,
   "metadata": {},
   "outputs": [
    {
     "data": {
      "text/plain": [
       "2749043408944"
      ]
     },
     "execution_count": 1,
     "metadata": {},
     "output_type": "execute_result"
    }
   ],
   "source": [
    "my_var=\"\"\n",
    "id(my_var)\n"
   ]
  },
  {
   "cell_type": "code",
   "execution_count": 7,
   "metadata": {},
   "outputs": [
    {
     "name": "stdout",
     "output_type": "stream",
     "text": [
      "<function test at 0x00000280136FA320>\n",
      "0x280136fa320\n"
     ]
    }
   ],
   "source": [
    "def test():\n",
    "    print(\"test\")\n",
    "\n",
    "print(test)\n",
    "print(hex(id(test)))"
   ]
  },
  {
   "cell_type": "code",
   "execution_count": 8,
   "metadata": {},
   "outputs": [
    {
     "data": {
      "text/plain": [
       "2749105152800"
      ]
     },
     "execution_count": 8,
     "metadata": {},
     "output_type": "execute_result"
    }
   ],
   "source": [
    "id(test)"
   ]
  },
  {
   "cell_type": "code",
   "execution_count": 11,
   "metadata": {},
   "outputs": [
    {
     "name": "stdout",
     "output_type": "stream",
     "text": [
      "True\n",
      "True\n",
      "False\n"
     ]
    }
   ],
   "source": [
    "t3=10\n",
    "t4=12\n",
    "t1=10\n",
    "t2=t1\n",
    "print(id(t1)==id(t2))\n",
    "print(id(t1)==id(t3))\n",
    "print(id(t1)==id(t4))"
   ]
  },
  {
   "cell_type": "code",
   "execution_count": null,
   "metadata": {},
   "outputs": [],
   "source": []
  }
 ],
 "metadata": {
  "kernelspec": {
   "display_name": "Python 3",
   "language": "python",
   "name": "python3"
  },
  "language_info": {
   "codemirror_mode": {
    "name": "ipython",
    "version": 3
   },
   "file_extension": ".py",
   "mimetype": "text/x-python",
   "name": "python",
   "nbconvert_exporter": "python",
   "pygments_lexer": "ipython3",
   "version": "3.10.6"
  }
 },
 "nbformat": 4,
 "nbformat_minor": 1
}
